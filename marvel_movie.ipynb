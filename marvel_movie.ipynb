{
 "cells": [
  {
   "cell_type": "code",
   "execution_count": 1,
   "id": "fb096111-0e57-4a38-8bdc-0235c7425ab4",
   "metadata": {},
   "outputs": [],
   "source": [
    "from bs4 import BeautifulSoup as bs\n",
    "import requests"
   ]
  },
  {
   "cell_type": "markdown",
   "id": "654f8138-21b2-4b48-9827-594de2bdb497",
   "metadata": {},
   "source": [
    "# Step 1: Get movie info for Iron Man(2008 film)"
   ]
  },
  {
   "cell_type": "code",
   "execution_count": 2,
   "id": "4e2b0da6-74aa-4ae7-ac26-7a3e82968a07",
   "metadata": {},
   "outputs": [],
   "source": [
    "r = requests.get(\"https://en.wikipedia.org/wiki/Iron_Man_(2008_film)\")\n",
    "\n",
    "# Convert to a beautiful soup object\n",
    "soup = bs(r.content)\n",
    "\n",
    "# Print out the HTML\n",
    "contents = soup.prettify()\n",
    "#print(contents)"
   ]
  },
  {
   "cell_type": "code",
   "execution_count": 3,
   "id": "18b2ff86-2c14-4f9a-98ae-be730cf70d57",
   "metadata": {
    "tags": []
   },
   "outputs": [],
   "source": [
    "info = soup.find(class_=\"infobox vevent\")\n",
    "info_rows = info.find_all(\"tr\")\n",
    "#for row in info_rows:\n",
    "   #print(row.prettify())"
   ]
  },
  {
   "cell_type": "code",
   "execution_count": 4,
   "id": "a5c4474f-246d-4924-b91e-6a7410330c44",
   "metadata": {},
   "outputs": [],
   "source": [
    "def get_content_value(row_data):\n",
    "    if row_data.find(\"li\"):\n",
    "        return [li.get_text(\" \", strip=True).replace(\"\\xa0\", \" \") for li in row_data.find_all(\"li\")]\n",
    "    else:\n",
    "        return row_data.get_text(\" \", strip=True).replace(\"\\xa0\", \" \")"
   ]
  },
  {
   "cell_type": "code",
   "execution_count": 5,
   "id": "639b2dff-7e93-44b7-819f-e0d456ff989d",
   "metadata": {},
   "outputs": [
    {
     "data": {
      "text/plain": [
       "{'title': 'Iron Man',\n",
       " 'Directed by': 'Jon Favreau',\n",
       " 'Screenplay by': ['Mark Fergus Hawk Ostby', 'Art Marcum Matt Holloway'],\n",
       " 'Based on': ['Stan Lee', 'Larry Lieber', 'Don Heck', 'Jack Kirby'],\n",
       " 'Produced by': ['Avi Arad', 'Kevin Feige'],\n",
       " 'Starring': ['Robert Downey Jr.',\n",
       "  'Terrence Howard',\n",
       "  'Jeff Bridges',\n",
       "  'Shaun Toub',\n",
       "  'Gwyneth Paltrow'],\n",
       " 'Cinematography': 'Matthew Libatique',\n",
       " 'Edited by': 'Dan Lebental',\n",
       " 'Music by': 'Ramin Djawadi',\n",
       " 'Production company': 'Marvel Studios',\n",
       " 'Distributed by': 'Paramount Pictures [N 1]',\n",
       " 'Release dates': ['April 14, 2008 ( 2008-04-14 ) (Sydney)',\n",
       "  'May 2, 2008 ( 2008-05-02 ) (United States)'],\n",
       " 'Running time': '126 minutes [4]',\n",
       " 'Country': 'United States',\n",
       " 'Language': 'English',\n",
       " 'Budget': '$140 million [5]',\n",
       " 'Box office': '$585.8 million [5]'}"
      ]
     },
     "execution_count": 5,
     "metadata": {},
     "output_type": "execute_result"
    }
   ],
   "source": [
    "movie_info = {}\n",
    "\n",
    "for index, row in enumerate(info_rows):\n",
    "    if index == 0:\n",
    "        movie_info['title'] = row.find(\"th\").get_text(\" \", strip=True)\n",
    "    elif index == 1:\n",
    "        continue\n",
    "    else:\n",
    "        content_key = row.find(\"th\").get_text(\" \", strip=True)\n",
    "        content_value = get_content_value(row.find(\"td\"))\n",
    "        movie_info[content_key] = content_value\n",
    "    \n",
    "movie_info"
   ]
  },
  {
   "cell_type": "markdown",
   "id": "56515652-b2a2-43a0-969b-7b623bd0345e",
   "metadata": {},
   "source": [
    "# Step 2: Get movie info for all movies"
   ]
  },
  {
   "cell_type": "code",
   "execution_count": 6,
   "id": "525e21df-33e1-43f7-8b67-a5525484eccf",
   "metadata": {},
   "outputs": [],
   "source": [
    "r = requests.get(\"https://en.wikipedia.org/wiki/List_of_Marvel_Cinematic_Universe_films\")"
   ]
  },
  {
   "cell_type": "code",
   "execution_count": 7,
   "id": "f206b75c-9ad3-46e4-aa05-5fc12e1a57c9",
   "metadata": {},
   "outputs": [],
   "source": [
    "# Convert to a beautiful soup object\n",
    "soup = bs(r.content)\n",
    "\n",
    "# Print out the HTML\n",
    "contents = soup.prettify()\n",
    "#print(contents)all"
   ]
  },
  {
   "cell_type": "code",
   "execution_count": 8,
   "id": "e4de4af6-efb7-4996-af23-b6122ced14b0",
   "metadata": {},
   "outputs": [
    {
     "data": {
      "text/plain": [
       "[<i><a href=\"/wiki/Iron_Man_(2008_film)#Box_office\" title=\"Iron Man (2008 film)\">Iron Man</a></i>,\n",
       " <i><a href=\"/wiki/The_Incredible_Hulk_(film)#Box_office\" title=\"The Incredible Hulk (film)\">The Incredible Hulk</a></i>,\n",
       " <i><a href=\"/wiki/Iron_Man_2#Box_office\" title=\"Iron Man 2\">Iron Man 2</a></i>,\n",
       " <i><a href=\"/wiki/Thor_(film)#Box_office\" title=\"Thor (film)\">Thor</a></i>,\n",
       " <i><a href=\"/wiki/Captain_America:_The_First_Avenger#Box_office\" title=\"Captain America: The First Avenger\">Captain America: The First Avenger</a></i>,\n",
       " <i><a href=\"/wiki/The_Avengers_(2012_film)#Box_office\" title=\"The Avengers (2012 film)\">Marvel's The Avengers</a></i>,\n",
       " <i><a href=\"/wiki/Iron_Man_3#Box_office\" title=\"Iron Man 3\">Iron Man 3</a></i>,\n",
       " <i><a href=\"/wiki/Thor:_The_Dark_World#Box_office\" title=\"Thor: The Dark World\">Thor: The Dark World</a></i>,\n",
       " <i><a href=\"/wiki/Captain_America:_The_Winter_Soldier#Box_office\" title=\"Captain America: The Winter Soldier\">Captain America: The Winter Soldier</a></i>,\n",
       " <i><a href=\"/wiki/Guardians_of_the_Galaxy_(film)#Box_office\" title=\"Guardians of the Galaxy (film)\">Guardians of the Galaxy</a></i>,\n",
       " <i><a href=\"/wiki/Avengers:_Age_of_Ultron#Box_office\" title=\"Avengers: Age of Ultron\">Avengers: Age of Ultron</a></i>,\n",
       " <i><a href=\"/wiki/Ant-Man_(film)#Box_office\" title=\"Ant-Man (film)\">Ant-Man</a></i>,\n",
       " <i><a href=\"/wiki/Captain_America:_Civil_War#Box_office\" title=\"Captain America: Civil War\">Captain America: Civil War</a></i>,\n",
       " <i><a href=\"/wiki/Doctor_Strange_(2016_film)#Box_office\" title=\"Doctor Strange (2016 film)\">Doctor Strange</a></i>,\n",
       " <i><a href=\"/wiki/Guardians_of_the_Galaxy_Vol._2#Box_office\" title=\"Guardians of the Galaxy Vol. 2\">Guardians of the Galaxy Vol. 2</a></i>,\n",
       " <i><a href=\"/wiki/Spider-Man:_Homecoming#Box_office\" title=\"Spider-Man: Homecoming\">Spider-Man: Homecoming</a></i>,\n",
       " <i><a href=\"/wiki/Thor:_Ragnarok#Box_office\" title=\"Thor: Ragnarok\">Thor: Ragnarok</a></i>,\n",
       " <i><a href=\"/wiki/Black_Panther_(film)#Box_office\" title=\"Black Panther (film)\">Black Panther</a></i>,\n",
       " <i><a href=\"/wiki/Avengers:_Infinity_War#Box_office\" title=\"Avengers: Infinity War\">Avengers: Infinity War</a></i>,\n",
       " <i><a href=\"/wiki/Ant-Man_and_the_Wasp#Box_office\" title=\"Ant-Man and the Wasp\">Ant-Man and the Wasp</a></i>,\n",
       " <i><a href=\"/wiki/Captain_Marvel_(film)#Box_office\" title=\"Captain Marvel (film)\">Captain Marvel</a></i>,\n",
       " <i><a href=\"/wiki/Avengers:_Endgame#Box_office\" title=\"Avengers: Endgame\">Avengers: Endgame</a></i>,\n",
       " <i><a href=\"/wiki/Spider-Man:_Far_From_Home#Box_office\" title=\"Spider-Man: Far From Home\">Spider-Man: Far From Home</a></i>,\n",
       " <i><a href=\"/wiki/Black_Widow_(2021_film)#Box_office\" title=\"Black Widow (2021 film)\">Black Widow</a></i>,\n",
       " <i><a href=\"/wiki/Shang-Chi_and_the_Legend_of_the_Ten_Rings#Box_office\" title=\"Shang-Chi and the Legend of the Ten Rings\">Shang-Chi and the Legend of the Ten Rings</a></i>,\n",
       " <i><a href=\"/wiki/Eternals_(film)#Box_office\" title=\"Eternals (film)\">Eternals</a></i>,\n",
       " <i><a href=\"/wiki/Spider-Man:_No_Way_Home#Box_office\" title=\"Spider-Man: No Way Home\">Spider-Man: No Way Home</a></i>,\n",
       " <i><a href=\"/wiki/Doctor_Strange_in_the_Multiverse_of_Madness#Box_office\" title=\"Doctor Strange in the Multiverse of Madness\">Doctor Strange in the Multiverse of Madness</a></i>,\n",
       " <i><a href=\"/wiki/Thor:_Love_and_Thunder#Box_office\" title=\"Thor: Love and Thunder\">Thor: Love and Thunder</a></i>,\n",
       " <i><a href=\"/wiki/Iron_Man_(2008_film)#Critical_response\" title=\"Iron Man (2008 film)\">Iron Man</a></i>,\n",
       " <i><a href=\"/wiki/The_Incredible_Hulk_(film)#Critical_response\" title=\"The Incredible Hulk (film)\">The Incredible Hulk</a></i>,\n",
       " <i><a href=\"/wiki/Iron_Man_2#Critical_response\" title=\"Iron Man 2\">Iron Man 2</a></i>,\n",
       " <i><a href=\"/wiki/Thor_(film)#Critical_response\" title=\"Thor (film)\">Thor</a></i>,\n",
       " <i><a href=\"/wiki/Captain_America:_The_First_Avenger#Critical_response\" title=\"Captain America: The First Avenger\">Captain America: The First Avenger</a></i>,\n",
       " <i><a href=\"/wiki/The_Avengers_(2012_film)#Critical_response\" title=\"The Avengers (2012 film)\">Marvel's The Avengers</a></i>,\n",
       " <i><a href=\"/wiki/Iron_Man_3#Critical_response\" title=\"Iron Man 3\">Iron Man 3</a></i>,\n",
       " <i><a href=\"/wiki/Thor:_The_Dark_World#Critical_response\" title=\"Thor: The Dark World\">Thor: The Dark World</a></i>,\n",
       " <i><a href=\"/wiki/Captain_America:_The_Winter_Soldier#Critical_response\" title=\"Captain America: The Winter Soldier\">Captain America: The Winter Soldier</a></i>,\n",
       " <i><a href=\"/wiki/Guardians_of_the_Galaxy_(film)#Critical_response\" title=\"Guardians of the Galaxy (film)\">Guardians of the Galaxy</a></i>,\n",
       " <i><a href=\"/wiki/Avengers:_Age_of_Ultron#Critical_response\" title=\"Avengers: Age of Ultron\">Avengers: Age of Ultron</a></i>,\n",
       " <i><a href=\"/wiki/Ant-Man_(film)#Critical_response\" title=\"Ant-Man (film)\">Ant-Man</a></i>,\n",
       " <i><a href=\"/wiki/Captain_America:_Civil_War#Critical_response\" title=\"Captain America: Civil War\">Captain America: Civil War</a></i>,\n",
       " <i><a href=\"/wiki/Doctor_Strange_(2016_film)#Critical_response\" title=\"Doctor Strange (2016 film)\">Doctor Strange</a></i>,\n",
       " <i><a href=\"/wiki/Guardians_of_the_Galaxy_Vol._2#Critical_response\" title=\"Guardians of the Galaxy Vol. 2\">Guardians of the Galaxy Vol. 2</a></i>,\n",
       " <i><a href=\"/wiki/Spider-Man:_Homecoming#Critical_response\" title=\"Spider-Man: Homecoming\">Spider-Man: Homecoming</a></i>,\n",
       " <i><a href=\"/wiki/Thor:_Ragnarok#Critical_response\" title=\"Thor: Ragnarok\">Thor: Ragnarok</a></i>,\n",
       " <i><a href=\"/wiki/Black_Panther_(film)#Critical_response\" title=\"Black Panther (film)\">Black Panther</a></i>,\n",
       " <i><a href=\"/wiki/Avengers:_Infinity_War#Critical_response\" title=\"Avengers: Infinity War\">Avengers: Infinity War</a></i>,\n",
       " <i><a href=\"/wiki/Ant-Man_and_the_Wasp#Critical_response\" title=\"Ant-Man and the Wasp\">Ant-Man and the Wasp</a></i>,\n",
       " <i><a href=\"/wiki/Captain_Marvel_(film)#Critical_response\" title=\"Captain Marvel (film)\">Captain Marvel</a></i>,\n",
       " <i><a href=\"/wiki/Avengers:_Endgame#Critical_response\" title=\"Avengers: Endgame\">Avengers: Endgame</a></i>,\n",
       " <i><a href=\"/wiki/Spider-Man:_Far_From_Home#Critical_response\" title=\"Spider-Man: Far From Home\">Spider-Man: Far From Home</a></i>,\n",
       " <i><a href=\"/wiki/Black_Widow_(2021_film)#Critical_response\" title=\"Black Widow (2021 film)\">Black Widow</a></i>,\n",
       " <i><a href=\"/wiki/Shang-Chi_and_the_Legend_of_the_Ten_Rings#Critical_response\" title=\"Shang-Chi and the Legend of the Ten Rings\">Shang-Chi and the Legend of the Ten Rings</a></i>,\n",
       " <i><a href=\"/wiki/Eternals_(film)#Critical_response\" title=\"Eternals (film)\">Eternals</a></i>,\n",
       " <i><a href=\"/wiki/Spider-Man:_No_Way_Home#Critical_response\" title=\"Spider-Man: No Way Home\">Spider-Man: No Way Home</a></i>,\n",
       " <i><a href=\"/wiki/Doctor_Strange_in_the_Multiverse_of_Madness#Critical_response\" title=\"Doctor Strange in the Multiverse of Madness\">Doctor Strange in the Multiverse of Madness</a></i>,\n",
       " <i><a href=\"/wiki/Thor:_Love_and_Thunder#Critical_response\" title=\"Thor: Love and Thunder\">Thor: Love and Thunder</a></i>]"
      ]
     },
     "execution_count": 8,
     "metadata": {},
     "output_type": "execute_result"
    }
   ],
   "source": [
    "movies = soup.select(\".wikitable.sortable i\")\n",
    "movies"
   ]
  },
  {
   "cell_type": "markdown",
   "id": "88373f60-389e-44b1-b6f4-18a916f715be",
   "metadata": {},
   "source": [
    "#### Somehow movies are dupilcated, we only need the half of list."
   ]
  },
  {
   "cell_type": "code",
   "execution_count": 9,
   "id": "74efd13c-cd8d-4ccf-8ce7-30ec99c95364",
   "metadata": {},
   "outputs": [],
   "source": [
    "movies = movies[0:int((len(movies)/2))]"
   ]
  },
  {
   "cell_type": "markdown",
   "id": "c830db5a-1b38-4007-a50d-e46d05527cb6",
   "metadata": {},
   "source": [
    "#### Here, I want to created functions to do our step one."
   ]
  },
  {
   "cell_type": "code",
   "execution_count": 10,
   "id": "108c7b07-0473-4b2e-8470-4068ba63596b",
   "metadata": {},
   "outputs": [],
   "source": [
    "def get_content_value(row_data):\n",
    "    if row_data.find(\"li\"):\n",
    "        return [li.get_text(\" \", strip=True).replace(\"\\xa0\", \" \") for li in row_data.find_all(\"li\")]\n",
    "    elif row_data.find(\"br\"):\n",
    "        return [text for text in row_data.stripped_strings]\n",
    "    else:\n",
    "        return row_data.get_text(\" \", strip=True).replace(\"\\xa0\", \" \")\n",
    "\n",
    "def clean_tags(soup):\n",
    "    for tag in soup.find_all([\"sup\", \"span\"]):\n",
    "        tag.decompose()\n",
    "        \n",
    "def get_info(url):\n",
    "\n",
    "    r = requests.get(url)\n",
    "    soup = bs(r.content)\n",
    "    info_box = soup.find(class_=\"infobox vevent\")\n",
    "    info_rows = info_box.find_all(\"tr\")\n",
    "    \n",
    "    clean_tags(soup)\n",
    "\n",
    "    movie_info = {}\n",
    "    for index, row in enumerate(info_rows):\n",
    "        if index == 0:\n",
    "            movie_info['title'] = row.find(\"th\").get_text(\" \", strip=True)\n",
    "        else:\n",
    "            header = row.find('th')\n",
    "            if header:\n",
    "                content_key = row.find(\"th\").get_text(\" \", strip=True)\n",
    "                content_value = get_content_value(row.find(\"td\"))\n",
    "                movie_info[content_key] = content_value\n",
    "            \n",
    "    return movie_info    "
   ]
  },
  {
   "cell_type": "markdown",
   "id": "fa4f61e8-3467-4a84-829d-1a644364c288",
   "metadata": {},
   "source": [
    "#### Try function on the movie 'The Incredible Hulk'"
   ]
  },
  {
   "cell_type": "code",
   "execution_count": 11,
   "id": "aabd89e3-c3d1-4f03-ba35-0420fc4241ef",
   "metadata": {},
   "outputs": [
    {
     "data": {
      "text/plain": [
       "{'title': 'The Incredible Hulk',\n",
       " 'Directed by': 'Louis Leterrier',\n",
       " 'Written by': 'Zak Penn',\n",
       " 'Based on': ['Stan Lee', 'Jack Kirby'],\n",
       " 'Produced by': ['Avi Arad', 'Gale Anne Hurd', 'Kevin Feige'],\n",
       " 'Starring': ['Edward Norton',\n",
       "  'Liv Tyler',\n",
       "  'Tim Roth',\n",
       "  'Tim Blake Nelson',\n",
       "  'Ty Burrell',\n",
       "  'William Hurt'],\n",
       " 'Cinematography': 'Peter Menzies Jr.',\n",
       " 'Edited by': ['John Wright', 'Rick Shaine', 'Vincent Tabaillon'],\n",
       " 'Music by': 'Craig Armstrong',\n",
       " 'Production companies': ['Marvel Studios', 'Valhalla Motion Pictures'],\n",
       " 'Distributed by': 'Universal Pictures',\n",
       " 'Release dates': ['June 8, 2008 ( Gibson Amphitheatre )',\n",
       "  'June 13, 2008 (United States)'],\n",
       " 'Running time': '112 minutes',\n",
       " 'Country': 'United States',\n",
       " 'Language': 'English',\n",
       " 'Budget': '$137.5–150 million',\n",
       " 'Box office': '$264.8 million'}"
      ]
     },
     "execution_count": 11,
     "metadata": {},
     "output_type": "execute_result"
    }
   ],
   "source": [
    "get_info(\"https://en.wikipedia.org/wiki/The_Incredible_Hulk_(film)\")"
   ]
  },
  {
   "cell_type": "markdown",
   "id": "079a3bdd-b21f-429a-9947-3cd1e3dffafd",
   "metadata": {},
   "source": [
    "#### Since the url of each movie is in certain format, we use a for loop here to use function get_info on each movie."
   ]
  },
  {
   "cell_type": "code",
   "execution_count": 12,
   "id": "f1a196f3-e5f7-4e30-af81-88244d29ea00",
   "metadata": {},
   "outputs": [
    {
     "name": "stdout",
     "output_type": "stream",
     "text": [
      "0\n",
      "10\n",
      "20\n",
      "30\n",
      "40\n",
      "50\n"
     ]
    }
   ],
   "source": [
    "r = requests.get(\"https://en.wikipedia.org/wiki/List_of_Marvel_Cinematic_Universe_films\")\n",
    "soup = bs(r.content)\n",
    "movies = soup.select(\".wikitable.sortable i a\")\n",
    "\n",
    "base_path = \"https://en.wikipedia.org/\"\n",
    "\n",
    "movie_info_list = []\n",
    "for index, movie in enumerate(movies):\n",
    "    if index % 10 == 0:\n",
    "        print(index)\n",
    "    try:\n",
    "        relative_path = movie['href']\n",
    "        full_path = base_path + relative_path\n",
    "        title = movie['title']\n",
    "        \n",
    "        movie_info_list.append(get_info(full_path))\n",
    "        \n",
    "    except Exception as e:\n",
    "        print(movie.get_text())\n",
    "        print(e)"
   ]
  },
  {
   "cell_type": "code",
   "execution_count": 13,
   "id": "d06022f6-13a8-476b-9309-edd7544a35c3",
   "metadata": {},
   "outputs": [],
   "source": [
    "movie_info_list = movie_info_list[0:int((len(movies)/2))]"
   ]
  },
  {
   "cell_type": "code",
   "execution_count": 15,
   "id": "1ff42d4a-6775-45a9-8157-18290204774e",
   "metadata": {},
   "outputs": [
    {
     "data": {
      "text/plain": [
       "{'title': 'Iron Man',\n",
       " 'Directed by': 'Jon Favreau',\n",
       " 'Screenplay by': ['Mark Fergus Hawk Ostby', 'Art Marcum Matt Holloway'],\n",
       " 'Based on': ['Stan Lee', 'Larry Lieber', 'Don Heck', 'Jack Kirby'],\n",
       " 'Produced by': ['Avi Arad', 'Kevin Feige'],\n",
       " 'Starring': ['Robert Downey Jr.',\n",
       "  'Terrence Howard',\n",
       "  'Jeff Bridges',\n",
       "  'Shaun Toub',\n",
       "  'Gwyneth Paltrow'],\n",
       " 'Cinematography': 'Matthew Libatique',\n",
       " 'Edited by': 'Dan Lebental',\n",
       " 'Music by': 'Ramin Djawadi',\n",
       " 'Production company': 'Marvel Studios',\n",
       " 'Distributed by': 'Paramount Pictures',\n",
       " 'Release dates': ['April 14, 2008 (Sydney)', 'May 2, 2008 (United States)'],\n",
       " 'Running time': '126 minutes',\n",
       " 'Country': 'United States',\n",
       " 'Language': 'English',\n",
       " 'Budget': '$140 million',\n",
       " 'Box office': '$585.8 million'}"
      ]
     },
     "execution_count": 15,
     "metadata": {},
     "output_type": "execute_result"
    }
   ],
   "source": [
    "movie_info_list[0]"
   ]
  },
  {
   "cell_type": "markdown",
   "id": "fa2efca1-5199-4a10-b76c-10dcd3b1d759",
   "metadata": {},
   "source": [
    "# Step 3: Some data cleaning "
   ]
  },
  {
   "cell_type": "markdown",
   "id": "34f8c92d-6053-4aa4-9f39-5f17ad2df9a8",
   "metadata": {},
   "source": [
    "#### Change the \"running time\" data type to integer."
   ]
  },
  {
   "cell_type": "code",
   "execution_count": 16,
   "id": "b1b930e2-4f3b-4a34-b762-965cd0068fde",
   "metadata": {},
   "outputs": [],
   "source": [
    "clean_list = movie_info_list"
   ]
  },
  {
   "cell_type": "code",
   "execution_count": 17,
   "id": "2a9d40f8-6722-4cca-9477-b0db1fe3e90b",
   "metadata": {},
   "outputs": [],
   "source": [
    "def minutes_to_integer(running_time):\n",
    "    if running_time == \"N/A\":\n",
    "        return None\n",
    "    \n",
    "    if isinstance(running_time, list):\n",
    "        return int(running_time[0].split(\" \")[0])\n",
    "    else: # is a string\n",
    "        return int(running_time.split(\" \")[0])\n",
    "\n",
    "for movie in clean_list:\n",
    "    movie['Running time'] = minutes_to_integer(movie.get('Running time', \"N/A\"))"
   ]
  },
  {
   "cell_type": "code",
   "execution_count": 18,
   "id": "6947dca4-84fc-4e85-b7b4-b9da9cced553",
   "metadata": {},
   "outputs": [
    {
     "data": {
      "text/plain": [
       "{'title': 'Iron Man',\n",
       " 'Directed by': 'Jon Favreau',\n",
       " 'Screenplay by': ['Mark Fergus Hawk Ostby', 'Art Marcum Matt Holloway'],\n",
       " 'Based on': ['Stan Lee', 'Larry Lieber', 'Don Heck', 'Jack Kirby'],\n",
       " 'Produced by': ['Avi Arad', 'Kevin Feige'],\n",
       " 'Starring': ['Robert Downey Jr.',\n",
       "  'Terrence Howard',\n",
       "  'Jeff Bridges',\n",
       "  'Shaun Toub',\n",
       "  'Gwyneth Paltrow'],\n",
       " 'Cinematography': 'Matthew Libatique',\n",
       " 'Edited by': 'Dan Lebental',\n",
       " 'Music by': 'Ramin Djawadi',\n",
       " 'Production company': 'Marvel Studios',\n",
       " 'Distributed by': 'Paramount Pictures',\n",
       " 'Release dates': ['April 14, 2008 (Sydney)', 'May 2, 2008 (United States)'],\n",
       " 'Running time': 126,\n",
       " 'Country': 'United States',\n",
       " 'Language': 'English',\n",
       " 'Budget': '$140 million',\n",
       " 'Box office': '$585.8 million'}"
      ]
     },
     "execution_count": 18,
     "metadata": {},
     "output_type": "execute_result"
    }
   ],
   "source": [
    "clean_list[0]"
   ]
  },
  {
   "cell_type": "markdown",
   "id": "a0970131-e44c-4e64-bdca-f0c99bc4e1ba",
   "metadata": {},
   "source": [
    "#### Change the 'Budget' and 'Box office' data types to integer."
   ]
  },
  {
   "cell_type": "code",
   "execution_count": 19,
   "id": "19b6d1f8-a41a-45a3-9085-aec8e2a03a9f",
   "metadata": {},
   "outputs": [],
   "source": [
    "#import functions to convert money from string to float from money.py\n",
    "from money import *"
   ]
  },
  {
   "cell_type": "code",
   "execution_count": 20,
   "id": "9ab968c1-90c0-406f-bf43-8ad2c0b7d3a5",
   "metadata": {},
   "outputs": [],
   "source": [
    "for movie in clean_list:\n",
    "    movie['Budget'] = int(money_conversion(movie.get('Budget', \"N/A\")))\n",
    "    movie['Box office'] = int(money_conversion(movie.get('Box office', \"N/A\")))"
   ]
  },
  {
   "cell_type": "code",
   "execution_count": 21,
   "id": "46924b1c-dbb6-4c14-99ef-e7f28b0b4955",
   "metadata": {},
   "outputs": [
    {
     "data": {
      "text/plain": [
       "{'title': 'Iron Man',\n",
       " 'Directed by': 'Jon Favreau',\n",
       " 'Screenplay by': ['Mark Fergus Hawk Ostby', 'Art Marcum Matt Holloway'],\n",
       " 'Based on': ['Stan Lee', 'Larry Lieber', 'Don Heck', 'Jack Kirby'],\n",
       " 'Produced by': ['Avi Arad', 'Kevin Feige'],\n",
       " 'Starring': ['Robert Downey Jr.',\n",
       "  'Terrence Howard',\n",
       "  'Jeff Bridges',\n",
       "  'Shaun Toub',\n",
       "  'Gwyneth Paltrow'],\n",
       " 'Cinematography': 'Matthew Libatique',\n",
       " 'Edited by': 'Dan Lebental',\n",
       " 'Music by': 'Ramin Djawadi',\n",
       " 'Production company': 'Marvel Studios',\n",
       " 'Distributed by': 'Paramount Pictures',\n",
       " 'Release dates': ['April 14, 2008 (Sydney)', 'May 2, 2008 (United States)'],\n",
       " 'Running time': 126,\n",
       " 'Country': 'United States',\n",
       " 'Language': 'English',\n",
       " 'Budget': 140000000,\n",
       " 'Box office': 585800000}"
      ]
     },
     "execution_count": 21,
     "metadata": {},
     "output_type": "execute_result"
    }
   ],
   "source": [
    "#money_conversion(str(movie_info_list[-40][\"Budget\"]))\n",
    "clean_list[0]"
   ]
  },
  {
   "cell_type": "markdown",
   "id": "90986e82-34c9-44f1-b460-07510dccc475",
   "metadata": {},
   "source": [
    "# Step 4: save data as JSON and load\n",
    "#### JSON file can be a good choice of non-relational database"
   ]
  },
  {
   "cell_type": "code",
   "execution_count": 29,
   "id": "08c99b49-5364-447a-9141-06b581ebd2a7",
   "metadata": {},
   "outputs": [],
   "source": [
    "import json\n",
    "\n",
    "def save_data(title, data):\n",
    "    with open(title, 'w', encoding='utf-8') as f:\n",
    "        json.dump(data, f, ensure_ascii=False, indent=2)\n",
    "\n",
    "save_data(\"marvel_movie.json\", clean_list)"
   ]
  },
  {
   "cell_type": "code",
   "execution_count": 36,
   "id": "daeafd70-6572-46d1-b0d1-2e6d868170aa",
   "metadata": {},
   "outputs": [
    {
     "data": {
      "application/json": [
       {
        "Based on": [
         "Stan Lee",
         "Larry Lieber",
         "Don Heck",
         "Jack Kirby"
        ],
        "Box office": 585800000,
        "Budget": 140000000,
        "Cinematography": "Matthew Libatique",
        "Country": "United States",
        "Directed by": "Jon Favreau",
        "Distributed by": "Paramount Pictures",
        "Edited by": "Dan Lebental",
        "Language": "English",
        "Music by": "Ramin Djawadi",
        "Produced by": [
         "Avi Arad",
         "Kevin Feige"
        ],
        "Production company": "Marvel Studios",
        "Release dates": [
         "April 14, 2008 (Sydney)",
         "May 2, 2008 (United States)"
        ],
        "Running time": 126,
        "Screenplay by": [
         "Mark Fergus Hawk Ostby",
         "Art Marcum Matt Holloway"
        ],
        "Starring": [
         "Robert Downey Jr.",
         "Terrence Howard",
         "Jeff Bridges",
         "Shaun Toub",
         "Gwyneth Paltrow"
        ],
        "title": "Iron Man"
       },
       {
        "Based on": [
         "Stan Lee",
         "Jack Kirby"
        ],
        "Box office": 264800000,
        "Budget": 137500000,
        "Cinematography": "Peter Menzies Jr.",
        "Country": "United States",
        "Directed by": "Louis Leterrier",
        "Distributed by": "Universal Pictures",
        "Edited by": [
         "John Wright",
         "Rick Shaine",
         "Vincent Tabaillon"
        ],
        "Language": "English",
        "Music by": "Craig Armstrong",
        "Produced by": [
         "Avi Arad",
         "Gale Anne Hurd",
         "Kevin Feige"
        ],
        "Production companies": [
         "Marvel Studios",
         "Valhalla Motion Pictures"
        ],
        "Release dates": [
         "June 8, 2008 ( Gibson Amphitheatre )",
         "June 13, 2008 (United States)"
        ],
        "Running time": 112,
        "Starring": [
         "Edward Norton",
         "Liv Tyler",
         "Tim Roth",
         "Tim Blake Nelson",
         "Ty Burrell",
         "William Hurt"
        ],
        "Written by": "Zak Penn",
        "title": "The Incredible Hulk"
       },
       {
        "Based on": [
         "Stan Lee",
         "Larry Lieber",
         "Don Heck",
         "Jack Kirby"
        ],
        "Box office": 623900000,
        "Budget": 170000000,
        "Cinematography": "Matthew Libatique",
        "Country": "United States",
        "Directed by": "Jon Favreau",
        "Distributed by": "Paramount Pictures",
        "Edited by": [
         "Dan Lebental",
         "Richard Pearson"
        ],
        "Language": "English",
        "Music by": "John Debney",
        "Produced by": "Kevin Feige",
        "Production company": "Marvel Studios",
        "Release dates": [
         "April 26, 2010 ( El Capitan Theatre )",
         "May 7, 2010 (United States)"
        ],
        "Running time": 125,
        "Screenplay by": "Justin Theroux",
        "Starring": [
         "Robert Downey Jr.",
         "Gwyneth Paltrow",
         "Don Cheadle",
         "Scarlett Johansson",
         "Sam Rockwell",
         "Mickey Rourke",
         "Samuel L. Jackson"
        ],
        "title": "Iron Man 2"
       },
       {
        "Based on": [
         "Stan Lee",
         "Larry Lieber",
         "Jack Kirby"
        ],
        "Box office": 449300000,
        "Budget": 150000000,
        "Cinematography": "Haris Zambarloukos",
        "Country": "United States",
        "Directed by": "Kenneth Branagh",
        "Distributed by": "Paramount Pictures",
        "Edited by": "Paul Rubell",
        "Language": "English",
        "Music by": "Patrick Doyle",
        "Produced by": "Kevin Feige",
        "Production company": "Marvel Studios",
        "Release dates": [
         "April 17, 2011 ( Sydney )",
         "May 6, 2011 (United States)"
        ],
        "Running time": 114,
        "Screenplay by": [
         "Ashley Edward Miller",
         "Zack Stentz",
         "Don Payne"
        ],
        "Starring": [
         "Chris Hemsworth",
         "Natalie Portman",
         "Tom Hiddleston",
         "Stellan Skarsgård",
         "Colm Feore",
         "Ray Stevenson",
         "Idris Elba",
         "Kat Dennings",
         "Rene Russo",
         "Anthony Hopkins"
        ],
        "Story by": [
         "J. Michael Straczynski",
         "Mark Protosevich"
        ],
        "title": "Thor"
       },
       {
        "Based on": [
         "Joe Simon",
         "Jack Kirby"
        ],
        "Box office": 370600000,
        "Budget": 140000000,
        "Cinematography": "Shelly Johnson",
        "Country": "United States",
        "Directed by": "Joe Johnston",
        "Distributed by": "Paramount Pictures",
        "Edited by": [
         "Jeffrey Ford",
         "Robert Dalva"
        ],
        "Language": "English",
        "Music by": "Alan Silvestri",
        "Produced by": "Kevin Feige",
        "Production company": "Marvel Studios",
        "Release dates": [
         "July 19, 2011 ( El Capitan Theatre )",
         "July 22, 2011 (United States)"
        ],
        "Running time": 124,
        "Screenplay by": [
         "Christopher Markus",
         "Stephen McFeely"
        ],
        "Starring": [
         "Chris Evans",
         "Tommy Lee Jones",
         "Hugo Weaving",
         "Hayley Atwell",
         "Sebastian Stan",
         "Dominic Cooper",
         "Neal McDonough",
         "Derek Luke",
         "Stanley Tucci"
        ],
        "title": "Captain America: The First Avenger"
       },
       {
        "Based on": [
         "Stan Lee",
         "Jack Kirby"
        ],
        "Box office": 1519000000,
        "Budget": 220000000,
        "Cinematography": "Seamus McGarvey",
        "Country": "United States",
        "Directed by": "Joss Whedon",
        "Distributed by": [
         "Walt Disney Studios",
         "Motion Pictures"
        ],
        "Edited by": [
         "Jeffrey Ford",
         "Lisa Lassek"
        ],
        "Language": "English",
        "Music by": "Alan Silvestri",
        "Produced by": "Kevin Feige",
        "Production company": "Marvel Studios",
        "Release dates": [
         "April 11, 2012 ( El Capitan Theatre )",
         "May 4, 2012 (United States)"
        ],
        "Running time": 143,
        "Screenplay by": "Joss Whedon",
        "Starring": [
         "Robert Downey Jr.",
         "Chris Evans",
         "Mark Ruffalo",
         "Chris Hemsworth",
         "Scarlett Johansson",
         "Jeremy Renner",
         "Tom Hiddleston",
         "Clark Gregg",
         "Cobie Smulders",
         "Stellan Skarsgård",
         "Samuel L. Jackson"
        ],
        "Story by": [
         "Zak Penn",
         "Joss Whedon"
        ],
        "title": "The Avengers"
       },
       {
        "Based on": [
         "Stan Lee",
         "Don Heck",
         "Larry Lieber",
         "Jack Kirby"
        ],
        "Box office": 1215000000,
        "Budget": 200000000,
        "Cinematography": "John Toll",
        "Country": "United States",
        "Directed by": "Shane Black",
        "Distributed by": [
         "Walt Disney Studios",
         "Motion Pictures"
        ],
        "Edited by": [
         "Jeffrey Ford",
         "Peter S. Elliot"
        ],
        "Language": "English",
        "Music by": "Brian Tyler",
        "Produced by": "Kevin Feige",
        "Production company": "Marvel Studios",
        "Release dates": [
         "April 14, 2013 ( Grand Rex )",
         "May 3, 2013 (United States)"
        ],
        "Running time": 131,
        "Screenplay by": [
         "Shane Black",
         "Drew Pearce"
        ],
        "Starring": [
         "Robert Downey Jr.",
         "Gwyneth Paltrow",
         "Don Cheadle",
         "Guy Pearce",
         "Rebecca Hall",
         "Stéphanie Szostak",
         "James Badge Dale",
         "Jon Favreau",
         "Ben Kingsley"
        ],
        "title": "Iron Man 3"
       },
       {
        "Based on": [
         "Stan Lee",
         "Larry Lieber",
         "Jack Kirby"
        ],
        "Box office": 644800000,
        "Budget": 150000000,
        "Cinematography": "Kramer Morgenthau",
        "Country": "United States",
        "Directed by": "Alan Taylor",
        "Distributed by": [
         "Walt Disney Studios",
         "Motion Pictures"
        ],
        "Edited by": [
         "Dan Lebental",
         "Wyatt Smith"
        ],
        "Language": "English",
        "Music by": "Brian Tyler",
        "Produced by": "Kevin Feige",
        "Production company": "Marvel Studios",
        "Release dates": [
         "October 22, 2013 ( Leicester Square )",
         "November 8, 2013 (United States)"
        ],
        "Running time": 112,
        "Screenplay by": [
         "Christopher Yost",
         "Christopher Markus Stephen McFeely"
        ],
        "Starring": [
         "Chris Hemsworth",
         "Natalie Portman",
         "Tom Hiddleston",
         "Stellan Skarsgård",
         "Idris Elba",
         "Christopher Eccleston",
         "Adewale Akinnuoye-Agbaje",
         "Kat Dennings",
         "Ray Stevenson",
         "Zachary Levi",
         "Tadanobu Asano",
         "Jaimie Alexander",
         "Rene Russo",
         "Anthony Hopkins"
        ],
        "Story by": [
         "Don Payne",
         "Robert Rodat"
        ],
        "title": "Thor: The Dark World"
       },
       {
        "Based on": [
         "Joe Simon",
         "Jack Kirby"
        ],
        "Box office": 714400000,
        "Budget": 170000000,
        "Cinematography": "Trent Opaloch",
        "Country": "United States",
        "Directed by": [
         "Anthony Russo",
         "Joe Russo"
        ],
        "Distributed by": [
         "Walt Disney Studios",
         "Motion Pictures"
        ],
        "Edited by": [
         "Jeffrey Ford",
         "Matthew Schmidt"
        ],
        "Language": "English",
        "Music by": "Henry Jackman",
        "Produced by": "Kevin Feige",
        "Production company": "Marvel Studios",
        "Release dates": [
         "March 13, 2014 ( El Capitan Theatre )",
         "April 4, 2014 (United States)"
        ],
        "Running time": 136,
        "Screenplay by": [
         "Christopher Markus",
         "Stephen McFeely"
        ],
        "Starring": [
         "Chris Evans",
         "Scarlett Johansson",
         "Sebastian Stan",
         "Anthony Mackie",
         "Cobie Smulders",
         "Frank Grillo",
         "Emily VanCamp",
         "Hayley Atwell",
         "Robert Redford",
         "Samuel L. Jackson"
        ],
        "title": "Captain America: The Winter Soldier"
       },
       {
        "Based on": [
         "Dan Abnett",
         "Andy Lanning"
        ],
        "Box office": 772800000,
        "Budget": 232300000,
        "Cinematography": "Ben Davis",
        "Country": "United States",
        "Directed by": "James Gunn",
        "Distributed by": [
         "Walt Disney Studios",
         "Motion Pictures"
        ],
        "Edited by": [
         "Fred Raskin",
         "Craig Wood",
         "Hughes Winborne"
        ],
        "Language": "English",
        "Music by": "Tyler Bates",
        "Produced by": "Kevin Feige",
        "Production company": "Marvel Studios",
        "Release dates": [
         "July 21, 2014 ( Dolby Theatre )",
         "August 1, 2014 (United States)"
        ],
        "Running time": 122,
        "Starring": [
         "Chris Pratt",
         "Zoe Saldaña",
         "Dave Bautista",
         "Vin Diesel",
         "Bradley Cooper",
         "Lee Pace",
         "Michael Rooker",
         "Karen Gillan",
         "Djimon Hounsou",
         "John C. Reilly",
         "Glenn Close",
         "Benicio del Toro"
        ],
        "Written by": [
         "James Gunn",
         "Nicole Perlman"
        ],
        "title": "Guardians of the Galaxy"
       },
       {
        "Based on": [
         "Stan Lee",
         "Jack Kirby"
        ],
        "Box office": 1403000000,
        "Budget": 444000000,
        "Cinematography": "Ben Davis",
        "Country": "United States",
        "Directed by": "Joss Whedon",
        "Distributed by": [
         "Walt Disney Studios",
         "Motion Pictures"
        ],
        "Edited by": [
         "Jeffrey Ford",
         "Lisa Lassek"
        ],
        "Language": "English",
        "Music by": [
         "Brian Tyler",
         "Danny Elfman"
        ],
        "Produced by": "Kevin Feige",
        "Production company": "Marvel Studios",
        "Release dates": [
         "April 13, 2015 ( Dolby Theatre )",
         "May 1, 2015 (United States)"
        ],
        "Running time": 141,
        "Starring": [
         "Robert Downey Jr.",
         "Chris Hemsworth",
         "Mark Ruffalo",
         "Chris Evans",
         "Scarlett Johansson",
         "Jeremy Renner",
         "Don Cheadle",
         "Aaron Taylor-Johnson",
         "Elizabeth Olsen",
         "Paul Bettany",
         "Cobie Smulders",
         "Anthony Mackie",
         "Hayley Atwell",
         "Idris Elba",
         "Stellan Skarsgård",
         "James Spader",
         "Samuel L. Jackson"
        ],
        "Written by": "Joss Whedon",
        "title": "Avengers: Age of Ultron"
       },
       {
        "Based on": [
         "Stan Lee",
         "Larry Lieber",
         "Jack Kirby"
        ],
        "Box office": 519299999,
        "Budget": 130000000,
        "Cinematography": "Russell Carpenter",
        "Country": "United States",
        "Directed by": "Peyton Reed",
        "Distributed by": [
         "Walt Disney Studios",
         "Motion Pictures"
        ],
        "Edited by": [
         "Dan Lebental",
         "Colby Parker, Jr."
        ],
        "Language": "English",
        "Music by": "Christophe Beck",
        "Produced by": "Kevin Feige",
        "Production company": "Marvel Studios",
        "Release dates": [
         "June 29, 2015 ( Dolby Theatre )",
         "July 17, 2015 (United States)"
        ],
        "Running time": 117,
        "Screenplay by": [
         "Edgar Wright",
         "Joe Cornish",
         "Adam McKay",
         "Paul Rudd"
        ],
        "Starring": [
         "Paul Rudd",
         "Evangeline Lilly",
         "Corey Stoll",
         "Bobby Cannavale",
         "Michael Peña",
         "Tip \"T.I.\" Harris",
         "Anthony Mackie",
         "Wood Harris",
         "Judy Greer",
         "David Dastmalchian",
         "Michael Douglas"
        ],
        "Story by": [
         "Edgar Wright",
         "Joe Cornish"
        ],
        "title": "Ant-Man"
       },
       {
        "Based on": [
         "Joe Simon",
         "Jack Kirby"
        ],
        "Box office": 1153000000,
        "Budget": 250000000,
        "Cinematography": "Trent Opaloch",
        "Country": "United States",
        "Directed by": [
         "Anthony Russo Joe Russo",
         "Anthony Russo",
         "Joe Russo"
        ],
        "Distributed by": [
         "Walt Disney Studios",
         "Motion Pictures"
        ],
        "Edited by": [
         "Jeffrey Ford",
         "Matthew Schmidt"
        ],
        "Language": "English",
        "Music by": "Henry Jackman",
        "Produced by": "Kevin Feige",
        "Production company": "Marvel Studios",
        "Release dates": [
         "April 12, 2016 ( Dolby Theatre )",
         "May 6, 2016 (United States)"
        ],
        "Running time": 147,
        "Screenplay by": [
         "Christopher Markus Stephen McFeely",
         "Christopher Markus",
         "Stephen McFeely"
        ],
        "Starring": [
         "Chris Evans",
         "Robert Downey Jr.",
         "Scarlett Johansson",
         "Sebastian Stan",
         "Anthony Mackie",
         "Don Cheadle",
         "Jeremy Renner",
         "Chadwick Boseman",
         "Paul Bettany",
         "Elizabeth Olsen",
         "Paul Rudd",
         "Emily VanCamp",
         "Tom Holland",
         "Frank Grillo",
         "William Hurt",
         "Daniel Brühl"
        ],
        "title": "Captain America: Civil War"
       },
       {
        "Based on": [
         "Stan Lee",
         "Steve Ditko"
        ],
        "Box office": 677800000,
        "Budget": 165000000,
        "Cinematography": "Ben Davis",
        "Country": "United States",
        "Directed by": "Scott Derrickson",
        "Distributed by": [
         "Walt Disney Studios",
         "Motion Pictures"
        ],
        "Edited by": [
         "Wyatt Smith",
         "Sabrina Plisco"
        ],
        "Language": "English",
        "Music by": "Michael Giacchino",
        "Produced by": "Kevin Feige",
        "Production company": "Marvel Studios",
        "Release dates": [
         "October 13, 2016 ( Hong Kong )",
         "November 4, 2016 (United States)"
        ],
        "Running time": 115,
        "Starring": [
         "Benedict Cumberbatch",
         "Chiwetel Ejiofor",
         "Rachel McAdams",
         "Benedict Wong",
         "Michael Stuhlbarg",
         "Benjamin Bratt",
         "Scott Adkins",
         "Mads Mikkelsen",
         "Tilda Swinton"
        ],
        "Written by": [
         "Jon Spaihts",
         "Scott Derrickson",
         "C. Robert Cargill"
        ],
        "title": "Doctor Strange"
       },
       {
        "Based on": [
         "Dan Abnett",
         "Andy Lanning"
        ],
        "Box office": 863800000,
        "Budget": 200000000,
        "Cinematography": "Henry Braham",
        "Country": "United States",
        "Directed by": "James Gunn",
        "Distributed by": [
         "Walt Disney Studios",
         "Motion Pictures"
        ],
        "Edited by": [
         "Fred Raskin",
         "Craig Wood"
        ],
        "Language": "English",
        "Music by": "Tyler Bates",
        "Produced by": "Kevin Feige",
        "Production company": "Marvel Studios",
        "Release dates": [
         "April 10, 2017 ( Tokyo )",
         "May 5, 2017 (United States)"
        ],
        "Running time": 137,
        "Starring": [
         "Chris Pratt",
         "Zoe Saldaña",
         "Dave Bautista",
         "Vin Diesel",
         "Bradley Cooper",
         "Michael Rooker",
         "Karen Gillan",
         "Pom Klementieff",
         "Elizabeth Debicki",
         "Chris Sullivan",
         "Sean Gunn",
         "Sylvester Stallone",
         "Kurt Russell"
        ],
        "Written by": "James Gunn",
        "title": "Guardians of the Galaxy Vol. 2"
       },
       {
        "Based on": [
         "Stan Lee",
         "Steve Ditko"
        ],
        "Box office": 880200000,
        "Budget": 175000000,
        "Cinematography": "Salvatore Totino",
        "Country": "United States",
        "Directed by": "Jon Watts",
        "Distributed by": "Sony Pictures Releasing",
        "Edited by": [
         "Dan Lebental",
         "Debbie Berman"
        ],
        "Language": "English",
        "Music by": "Michael Giacchino",
        "Produced by": [
         "Kevin Feige",
         "Amy Pascal"
        ],
        "Production companies": [
         "Columbia Pictures",
         "Marvel Studios",
         "Pascal Pictures"
        ],
        "Release dates": [
         "June 28, 2017 (Hollywood)",
         "July 7, 2017 (United States)"
        ],
        "Running time": 133,
        "Screenplay by": [
         "Jonathan Goldstein",
         "John Francis Daley",
         "Jon Watts",
         "Christopher Ford",
         "Chris McKenna",
         "Erik Sommers"
        ],
        "Starring": [
         "Tom Holland",
         "Michael Keaton",
         "Jon Favreau",
         "Gwyneth Paltrow",
         "Zendaya",
         "Donald Glover",
         "Jacob Batalon",
         "Laura Harrier",
         "Tony Revolori",
         "Bokeem Woodbine",
         "Tyne Daly",
         "Marisa Tomei",
         "Robert Downey Jr."
        ],
        "Story by": [
         "Jonathan Goldstein",
         "John Francis Daley"
        ],
        "title": "Spider-Man: Homecoming"
       },
       {
        "Based on": [
         "Stan Lee",
         "Larry Lieber",
         "Jack Kirby"
        ],
        "Box office": 854000000,
        "Budget": 180000000,
        "Cinematography": "Javier Aguirresarobe",
        "Country": "United States",
        "Directed by": "Taika Waititi",
        "Distributed by": [
         "Walt Disney Studios",
         "Motion Pictures"
        ],
        "Edited by": [
         "Joel Negron",
         "Zene Baker"
        ],
        "Language": "English",
        "Music by": "Mark Mothersbaugh",
        "Produced by": "Kevin Feige",
        "Production company": "Marvel Studios",
        "Release dates": [
         "October 10, 2017 ( El Capitan Theatre )",
         "November 3, 2017 (United States)"
        ],
        "Running time": 130,
        "Starring": [
         "Chris Hemsworth",
         "Tom Hiddleston",
         "Cate Blanchett",
         "Idris Elba",
         "Jeff Goldblum",
         "Tessa Thompson",
         "Karl Urban",
         "Mark Ruffalo",
         "Anthony Hopkins"
        ],
        "Written by": [
         "Eric Pearson",
         "Craig Kyle",
         "Christopher L. Yost"
        ],
        "title": "Thor: Ragnarok"
       },
       {
        "Based on": [
         "Stan Lee",
         "Jack Kirby"
        ],
        "Box office": 1348000000,
        "Budget": 200000000,
        "Cinematography": "Rachel Morrison",
        "Country": "United States",
        "Directed by": "Ryan Coogler",
        "Distributed by": [
         "Walt Disney Studios",
         "Motion Pictures"
        ],
        "Edited by": [
         "Michael P. Shawver",
         "Debbie Berman"
        ],
        "Language": "English",
        "Music by": "Ludwig Göransson",
        "Produced by": "Kevin Feige",
        "Production company": "Marvel Studios",
        "Release dates": [
         "January 29, 2018 ( Dolby Theatre )",
         "February 16, 2018 (United States)"
        ],
        "Running time": 134,
        "Starring": [
         "Chadwick Boseman",
         "Michael B. Jordan",
         "Lupita Nyong'o",
         "Danai Gurira",
         "Martin Freeman",
         "Daniel Kaluuya",
         "Letitia Wright",
         "Winston Duke",
         "Angela Bassett",
         "Forest Whitaker",
         "Andy Serkis"
        ],
        "Written by": [
         "Ryan Coogler",
         "Joe Robert Cole"
        ],
        "title": "Black Panther"
       },
       {
        "Based on": [
         "Stan Lee",
         "Jack Kirby"
        ],
        "Box office": 2048000000,
        "Budget": 325000000,
        "Cinematography": "Trent Opaloch",
        "Country": "United States",
        "Directed by": [
         "Anthony Russo",
         "Joe Russo"
        ],
        "Distributed by": [
         "Walt Disney Studios",
         "Motion Pictures"
        ],
        "Edited by": [
         "Jeffrey Ford",
         "Matthew Schmidt"
        ],
        "Language": "English",
        "Music by": "Alan Silvestri",
        "Produced by": "Kevin Feige",
        "Production company": "Marvel Studios",
        "Release dates": [
         "April 23, 2018 ( Dolby Theatre )",
         "April 27, 2018 (United States)"
        ],
        "Running time": 149,
        "Screenplay by": [
         "Christopher Markus",
         "Stephen McFeely"
        ],
        "Starring": [
         "Robert Downey Jr.",
         "Chris Hemsworth",
         "Mark Ruffalo",
         "Chris Evans",
         "Scarlett Johansson",
         "Benedict Cumberbatch",
         "Don Cheadle",
         "Tom Holland",
         "Chadwick Boseman",
         "Paul Bettany",
         "Elizabeth Olsen",
         "Anthony Mackie",
         "Sebastian Stan",
         "Danai Gurira",
         "Letitia Wright",
         "Dave Bautista",
         "Zoe Saldaña",
         "Josh Brolin",
         "Chris Pratt"
        ],
        "title": "Avengers: Infinity War"
       },
       {
        "Based on": [
         "Stan Lee",
         "Larry Lieber",
         "Jack Kirby"
        ],
        "Box office": 622700000,
        "Budget": 130000000,
        "Cinematography": "Dante Spinotti",
        "Country": "United States",
        "Directed by": "Peyton Reed",
        "Distributed by": [
         "Walt Disney Studios",
         "Motion Pictures"
        ],
        "Edited by": [
         "Dan Lebental",
         "Craig Wood"
        ],
        "Language": "English",
        "Music by": "Christophe Beck",
        "Produced by": [
         "Kevin Feige",
         "Stephen Broussard"
        ],
        "Production company": "Marvel Studios",
        "Release dates": [
         "June 25, 2018 ( El Capitan Theatre )",
         "July 6, 2018 (United States)"
        ],
        "Running time": 118,
        "Starring": [
         "Paul Rudd",
         "Evangeline Lilly",
         "Michael Peña",
         "Walton Goggins",
         "Bobby Cannavale",
         "Judy Greer",
         "T.I.",
         "David Dastmalchian",
         "Hannah John-Kamen",
         "Abby Ryder Fortson",
         "Randall Park",
         "Michelle Pfeiffer",
         "Laurence Fishburne",
         "Michael Douglas"
        ],
        "Written by": [
         "Chris McKenna",
         "Erik Sommers",
         "Paul Rudd",
         "Andrew Barrer",
         "Gabriel Ferrari"
        ],
        "title": "Ant-Man and the Wasp"
       },
       {
        "Based on": "Marvel Comics",
        "Box office": 1128000000,
        "Budget": 152000000,
        "Cinematography": "Ben Davis",
        "Country": "United States",
        "Directed by": [
         "Anna Boden",
         "Ryan Fleck"
        ],
        "Distributed by": [
         "Walt Disney Studios",
         "Motion Pictures"
        ],
        "Edited by": [
         "Elliot Graham",
         "Debbie Berman"
        ],
        "Language": "English",
        "Music by": "Pinar Toprak",
        "Produced by": "Kevin Feige",
        "Production company": "Marvel Studios",
        "Release dates": [
         "February 27, 2019 (London)",
         "March 8, 2019 (United States)"
        ],
        "Running time": 124,
        "Screenplay by": [
         "Anna Boden",
         "Ryan Fleck",
         "Geneva Robertson-Dworet"
        ],
        "Starring": [
         "Brie Larson",
         "Samuel L. Jackson",
         "Ben Mendelsohn",
         "Djimon Hounsou",
         "Lee Pace",
         "Lashana Lynch",
         "Gemma Chan",
         "Annette Bening",
         "Clark Gregg",
         "Jude Law"
        ],
        "Story by": [
         "Nicole Perlman",
         "Meg LeFauve",
         "Anna Boden",
         "Ryan Fleck",
         "Geneva Robertson-Dworet"
        ],
        "title": "Captain Marvel"
       },
       {
        "Based on": [
         "Stan Lee",
         "Jack Kirby"
        ],
        "Box office": 2798000000,
        "Budget": 356000000,
        "Cinematography": "Trent Opaloch",
        "Country": "United States",
        "Directed by": [
         "Anthony Russo",
         "Joe Russo"
        ],
        "Distributed by": [
         "Walt Disney Studios",
         "Motion Pictures"
        ],
        "Edited by": [
         "Jeffrey Ford",
         "Matthew Schmidt"
        ],
        "Language": "English",
        "Music by": "Alan Silvestri",
        "Produced by": "Kevin Feige",
        "Production company": "Marvel Studios",
        "Release dates": [
         "April 22, 2019 ( Los Angeles Convention Center )",
         "April 26, 2019 (United States)"
        ],
        "Running time": 181,
        "Screenplay by": [
         "Christopher Markus",
         "Stephen McFeely"
        ],
        "Starring": [
         "Robert Downey Jr.",
         "Chris Evans",
         "Mark Ruffalo",
         "Chris Hemsworth",
         "Scarlett Johansson",
         "Jeremy Renner",
         "Don Cheadle",
         "Paul Rudd",
         "Brie Larson",
         "Karen Gillan",
         "Danai Gurira",
         "Benedict Wong",
         "Jon Favreau",
         "Bradley Cooper",
         "Gwyneth Paltrow",
         "Josh Brolin"
        ],
        "title": "Avengers: Endgame"
       },
       {
        "Based on": [
         "Stan Lee",
         "Steve Ditko"
        ],
        "Box office": 1132000000,
        "Budget": 160000000,
        "Cinematography": "Matthew J. Lloyd",
        "Country": "United States",
        "Directed by": "Jon Watts",
        "Distributed by": "Sony Pictures Releasing",
        "Edited by": [
         "Dan Lebental",
         "Leigh Folsom Boyd"
        ],
        "Language": "English",
        "Music by": "Michael Giacchino",
        "Produced by": [
         "Kevin Feige",
         "Amy Pascal"
        ],
        "Production companies": [
         "Columbia Pictures",
         "Marvel Studios",
         "Pascal Pictures"
        ],
        "Release dates": [
         "June 26, 2019 ( TCL Chinese Theatre )",
         "July 2, 2019 (United States)"
        ],
        "Running time": 129,
        "Starring": [
         "Tom Holland",
         "Samuel L. Jackson",
         "Zendaya",
         "Cobie Smulders",
         "Jon Favreau",
         "Marisa Tomei",
         "Jake Gyllenhaal",
         "J. B. Smoove",
         "Jacob Batalon",
         "Martin Starr"
        ],
        "Written by": [
         "Chris McKenna",
         "Erik Sommers"
        ],
        "title": "Spider-Man: Far From Home"
       },
       {
        "Based on": "Marvel Comics",
        "Box office": 379800000,
        "Budget": 200000000,
        "Cinematography": "Gabriel Beristain",
        "Country": "United States",
        "Directed by": "Cate Shortland",
        "Distributed by": [
         "Walt Disney Studios",
         "Motion Pictures"
        ],
        "Edited by": [
         "Leigh Folsom Boyd",
         "Matthew Schmidt"
        ],
        "Language": "English",
        "Music by": "Lorne Balfe",
        "Produced by": "Kevin Feige",
        "Production company": "Marvel Studios",
        "Release dates": [
         "June 29, 2021 (world premieres)",
         "July 9, 2021 (United States)"
        ],
        "Running time": 134,
        "Screenplay by": "Eric Pearson",
        "Starring": [
         "Scarlett Johansson",
         "Florence Pugh",
         "David Harbour",
         "O-T Fagbenle",
         "Olga Kurylenko",
         "William Hurt",
         "Ray Winstone",
         "Rachel Weisz"
        ],
        "Story by": [
         "Jac Schaeffer",
         "Ned Benson"
        ],
        "title": "Black Widow"
       },
       {
        "Based on": "Marvel Comics",
        "Box office": 432200000,
        "Budget": 150000000,
        "Cinematography": "William Pope",
        "Country": "United States",
        "Directed by": "Destin Daniel Cretton",
        "Distributed by": [
         "Walt Disney Studios",
         "Motion Pictures"
        ],
        "Edited by": [
         "Nat Sanders",
         "Elísabet Ronaldsdóttir",
         "Harry Yoon"
        ],
        "Language": "English",
        "Music by": "Joel P. West",
        "Produced by": [
         "Kevin Feige",
         "Jonathan Schwartz"
        ],
        "Production company": "Marvel Studios",
        "Release dates": [
         "August 16, 2021 (Los Angeles)",
         "September 3, 2021 (United States)"
        ],
        "Running time": 132,
        "Screenplay by": [
         "Dave Callaham",
         "Destin Daniel Cretton",
         "Andrew Lanham"
        ],
        "Starring": [
         "Simu Liu",
         "Awkwafina",
         "Meng'er Zhang",
         "Fala Chen",
         "Florian Munteanu",
         "Benedict Wong",
         "Michelle Yeoh",
         "Ben Kingsley",
         "Tony Leung"
        ],
        "Story by": [
         "Dave Callaham",
         "Destin Daniel Cretton"
        ],
        "title": "Shang-Chi and the Legend of the Ten Rings"
       },
       {
        "Based on": [
         "Eternals",
         "by",
         "Jack Kirby"
        ],
        "Box office": 402100000,
        "Budget": 200000000,
        "Cinematography": "Ben Davis",
        "Country": "United States",
        "Directed by": "Chloé Zhao",
        "Distributed by": [
         "Walt Disney Studios",
         "Motion Pictures"
        ],
        "Edited by": [
         "Craig Wood",
         "Dylan Tichenor"
        ],
        "Language": "English",
        "Music by": "Ramin Djawadi",
        "Produced by": [
         "Kevin Feige",
         "Nate Moore"
        ],
        "Production company": "Marvel Studios",
        "Release dates": [
         "October 18, 2021 ( Dolby Theatre )",
         "November 5, 2021 (United States)"
        ],
        "Running time": 156,
        "Screenplay by": [
         "Chloé Zhao",
         "Patrick Burleigh",
         "Ryan Firpo",
         "Kaz Firpo"
        ],
        "Starring": [
         "Gemma Chan",
         "Richard Madden",
         "Kumail Nanjiani",
         "Lia McHugh",
         "Brian Tyree Henry",
         "Lauren Ridloff",
         "Barry Keoghan",
         "Don Lee",
         "Harish Patel",
         "Kit Harington",
         "Salma Hayek",
         "Angelina Jolie"
        ],
        "Story by": [
         "Ryan Firpo",
         "Kaz Firpo"
        ],
        "title": "Eternals"
       },
       {
        "Based on": [
         "Stan Lee",
         "Steve Ditko"
        ],
        "Box office": 1916000000,
        "Budget": 200000000,
        "Cinematography": "Mauro Fiore",
        "Country": "United States",
        "Directed by": "Jon Watts",
        "Distributed by": "Sony Pictures Releasing",
        "Edited by": [
         "Jeffrey Ford",
         "Leigh Folsom Boyd"
        ],
        "Language": "English",
        "Music by": "Michael Giacchino",
        "Produced by": [
         "Kevin Feige",
         "Amy Pascal"
        ],
        "Production companies": [
         "Columbia Pictures",
         "Marvel Studios",
         "Pascal Pictures"
        ],
        "Release dates": [
         "December 13, 2021 ( Fox Village Theatre )",
         "December 17, 2021 (United States)"
        ],
        "Running time": 148,
        "Starring": [
         "Tom Holland",
         "Zendaya",
         "Benedict Cumberbatch",
         "Jacob Batalon",
         "Jon Favreau",
         "Jamie Foxx",
         "Willem Dafoe",
         "Alfred Molina",
         "Benedict Wong",
         "Tony Revolori",
         "Marisa Tomei",
         "Andrew Garfield",
         "Tobey Maguire"
        ],
        "Written by": [
         "Chris McKenna",
         "Erik Sommers"
        ],
        "title": "Spider-Man: No Way Home"
       },
       {
        "Based on": "Marvel Comics",
        "Box office": 955800000,
        "Budget": 200000000,
        "Cinematography": "John Mathieson",
        "Country": "United States",
        "Directed by": "Sam Raimi",
        "Distributed by": [
         "Walt Disney Studios",
         "Motion Pictures"
        ],
        "Edited by": [
         "Bob Murawski",
         "Tia Nolan"
        ],
        "Language": "English",
        "Music by": "Danny Elfman",
        "Produced by": "Kevin Feige",
        "Production company": "Marvel Studios",
        "Release dates": [
         "May 2, 2022 ( Dolby Theatre )",
         "May 6, 2022 (United States)"
        ],
        "Running time": 126,
        "Starring": [
         "Benedict Cumberbatch",
         "Elizabeth Olsen",
         "Chiwetel Ejiofor",
         "Benedict Wong",
         "Xochitl Gomez",
         "Michael Stuhlbarg",
         "Rachel McAdams"
        ],
        "Written by": "Michael Waldron",
        "title": "Doctor Strange in the"
       },
       {
        "Based on": "Marvel Comics",
        "Box office": 760200000,
        "Budget": 250000000,
        "Cinematography": "Barry Idoine",
        "Country": "United States",
        "Directed by": "Taika Waititi",
        "Distributed by": [
         "Walt Disney Studios",
         "Motion Pictures"
        ],
        "Edited by": [
         "Matthew Schmidt",
         "Peter S. Elliot",
         "Tim Roche",
         "Jennifer Vecchiarello"
        ],
        "Language": "English",
        "Music by": [
         "Michael Giacchino (score and themes)",
         "Nami Melumad (score)"
        ],
        "Produced by": [
         "Kevin Feige",
         "Brad Winderbaum"
        ],
        "Production company": "Marvel Studios",
        "Release dates": [
         "June 23, 2022 ( El Capitan Theatre )",
         "July 8, 2022 (United States)"
        ],
        "Running time": 119,
        "Starring": [
         "Chris Hemsworth",
         "Christian Bale",
         "Tessa Thompson",
         "Jaimie Alexander",
         "Taika Waititi",
         "Russell Crowe",
         "Natalie Portman"
        ],
        "Written by": [
         "Taika Waititi",
         "Jennifer Kaytin Robinson"
        ],
        "title": "Thor: Love and Thunder"
       }
      ],
      "text/plain": [
       "<IPython.core.display.JSON object>"
      ]
     },
     "execution_count": 36,
     "metadata": {
      "application/json": {
       "expanded": false,
       "root": "root"
      }
     },
     "output_type": "execute_result"
    }
   ],
   "source": [
    "from IPython.display import JSON\n",
    "\n",
    "def load_data(title):\n",
    "    with open(title, encoding=\"utf-8\") as f:\n",
    "        return JSON(json.load(f))\n",
    "    \n",
    "load_data('marvel_movie.json')"
   ]
  },
  {
   "cell_type": "markdown",
   "id": "5c3fc5f3-a32b-4b8d-a628-08743bf88435",
   "metadata": {},
   "source": [
    "# Step 5: convert DataFrame to SQL database"
   ]
  },
  {
   "cell_type": "code",
   "execution_count": 22,
   "id": "bdfe2b7d-4b6b-4c97-a5db-257fb3a0eb7c",
   "metadata": {},
   "outputs": [],
   "source": [
    "import pandas as pd\n",
    "import sqlite3\n",
    "\n",
    "df = pd.DataFrame(clean_list)\n",
    "df.head(3)\n",
    "df = df.applymap(str)"
   ]
  },
  {
   "cell_type": "code",
   "execution_count": 23,
   "id": "531eeb7c-e534-448a-a800-8de3ad7177d3",
   "metadata": {},
   "outputs": [
    {
     "name": "stderr",
     "output_type": "stream",
     "text": [
      "C:\\ProgramData\\Anaconda3\\lib\\site-packages\\pandas\\core\\generic.py:2882: UserWarning: The spaces in these column names will not be changed. In pandas versions < 0.14, spaces were converted to underscores.\n",
      "  method=method,\n"
     ]
    }
   ],
   "source": [
    "cnn = sqlite3.connect('movie.db')\n",
    "df.to_sql('movie', cnn)"
   ]
  },
  {
   "cell_type": "code",
   "execution_count": 24,
   "id": "9c9d263e-2382-4abd-8408-f0fa2efde3ef",
   "metadata": {},
   "outputs": [],
   "source": [
    "%load_ext sql\n",
    "%sql sqlite:///movie.db"
   ]
  },
  {
   "cell_type": "markdown",
   "id": "8a12730a-5df6-4671-8fae-4cd79825b6aa",
   "metadata": {},
   "source": [
    "#### Let's run some sql query on our database."
   ]
  },
  {
   "cell_type": "markdown",
   "id": "9775f7b9-8dca-4280-a641-2e15d0cddce1",
   "metadata": {},
   "source": [
    "#### Who starred the movie \"Iron Man\"? 'Robert Downey Jr.', 'Terrence Howard', 'Jeff Bridges', 'Shaun Toub', 'Gwyneth Paltrow'"
   ]
  },
  {
   "cell_type": "code",
   "execution_count": 47,
   "id": "bf0e58e0-48be-439a-935d-750991cbf86c",
   "metadata": {},
   "outputs": [
    {
     "name": "stdout",
     "output_type": "stream",
     "text": [
      " * sqlite:///movie.db\n",
      "Done.\n"
     ]
    },
    {
     "data": {
      "text/html": [
       "<table>\n",
       "    <tr>\n",
       "        <th>Starring</th>\n",
       "    </tr>\n",
       "    <tr>\n",
       "        <td>[&#x27;Robert Downey Jr.&#x27;, &#x27;Terrence Howard&#x27;, &#x27;Jeff Bridges&#x27;, &#x27;Shaun Toub&#x27;, &#x27;Gwyneth Paltrow&#x27;]</td>\n",
       "    </tr>\n",
       "</table>"
      ],
      "text/plain": [
       "[(\"['Robert Downey Jr.', 'Terrence Howard', 'Jeff Bridges', 'Shaun Toub', 'Gwyneth Paltrow']\",)]"
      ]
     },
     "execution_count": 47,
     "metadata": {},
     "output_type": "execute_result"
    }
   ],
   "source": [
    "%%sql\n",
    "SELECT Starring\n",
    "FROM movie\n",
    "WHERE title = \"Iron Man\""
   ]
  },
  {
   "cell_type": "markdown",
   "id": "371f9748-97a6-4633-b856-b7850b5a60f8",
   "metadata": {},
   "source": [
    "#### Which one is the longest marvel movie so far? Avengers: Endgame."
   ]
  },
  {
   "cell_type": "code",
   "execution_count": 60,
   "id": "9d609b97-7120-4a99-9d0d-d0c3dcde2f96",
   "metadata": {},
   "outputs": [
    {
     "name": "stdout",
     "output_type": "stream",
     "text": [
      " * sqlite:///movie.db\n",
      "Done.\n"
     ]
    },
    {
     "data": {
      "text/html": [
       "<table>\n",
       "    <tr>\n",
       "        <th>title</th>\n",
       "        <th>max(&quot;Running time&quot;)</th>\n",
       "    </tr>\n",
       "    <tr>\n",
       "        <td>Avengers: Endgame</td>\n",
       "        <td>181</td>\n",
       "    </tr>\n",
       "</table>"
      ],
      "text/plain": [
       "[('Avengers: Endgame', '181')]"
      ]
     },
     "execution_count": 60,
     "metadata": {},
     "output_type": "execute_result"
    }
   ],
   "source": [
    "%%sql\n",
    "SELECT title, max(\"Running time\")\n",
    "FROM movie"
   ]
  },
  {
   "cell_type": "markdown",
   "id": "ea447c3d-b828-43a3-8471-b3e39e20f7e2",
   "metadata": {},
   "source": [
    "#### Which three movies have the highest profit (Box office - Budget)? 'Avengers: Endgame', 'Avengers: Infinity War', 'Spider-Man: No Way Home'."
   ]
  },
  {
   "cell_type": "code",
   "execution_count": 109,
   "id": "91c7729f-47e3-4274-a37f-d27bc202f618",
   "metadata": {},
   "outputs": [
    {
     "name": "stdout",
     "output_type": "stream",
     "text": [
      " * sqlite:///movie.db\n",
      "Done.\n"
     ]
    },
    {
     "data": {
      "text/html": [
       "<table>\n",
       "    <tr>\n",
       "        <th>title</th>\n",
       "        <th>Profit</th>\n",
       "    </tr>\n",
       "    <tr>\n",
       "        <td>Avengers: Endgame</td>\n",
       "        <td>2442000000</td>\n",
       "    </tr>\n",
       "    <tr>\n",
       "        <td>Avengers: Infinity War</td>\n",
       "        <td>1723000000</td>\n",
       "    </tr>\n",
       "    <tr>\n",
       "        <td>Spider-Man: No Way Home</td>\n",
       "        <td>1716000000</td>\n",
       "    </tr>\n",
       "    <tr>\n",
       "        <td>The Avengers</td>\n",
       "        <td>1299000000</td>\n",
       "    </tr>\n",
       "    <tr>\n",
       "        <td>Black Panther</td>\n",
       "        <td>1148000000</td>\n",
       "    </tr>\n",
       "    <tr>\n",
       "        <td>Iron Man 3</td>\n",
       "        <td>1015000000</td>\n",
       "    </tr>\n",
       "    <tr>\n",
       "        <td>Captain Marvel</td>\n",
       "        <td>976000000</td>\n",
       "    </tr>\n",
       "    <tr>\n",
       "        <td>Spider-Man: Far From Home</td>\n",
       "        <td>972000000</td>\n",
       "    </tr>\n",
       "    <tr>\n",
       "        <td>Avengers: Age of Ultron</td>\n",
       "        <td>959000000</td>\n",
       "    </tr>\n",
       "    <tr>\n",
       "        <td>Captain America: Civil War</td>\n",
       "        <td>903000000</td>\n",
       "    </tr>\n",
       "    <tr>\n",
       "        <td>Doctor Strange in the</td>\n",
       "        <td>755800000</td>\n",
       "    </tr>\n",
       "    <tr>\n",
       "        <td>Spider-Man: Homecoming</td>\n",
       "        <td>705200000</td>\n",
       "    </tr>\n",
       "    <tr>\n",
       "        <td>Thor: Ragnarok</td>\n",
       "        <td>674000000</td>\n",
       "    </tr>\n",
       "    <tr>\n",
       "        <td>Guardians of the Galaxy Vol. 2</td>\n",
       "        <td>663800000</td>\n",
       "    </tr>\n",
       "    <tr>\n",
       "        <td>Captain America: The Winter Soldier</td>\n",
       "        <td>544400000</td>\n",
       "    </tr>\n",
       "    <tr>\n",
       "        <td>Guardians of the Galaxy</td>\n",
       "        <td>540500000</td>\n",
       "    </tr>\n",
       "    <tr>\n",
       "        <td>Doctor Strange</td>\n",
       "        <td>512800000</td>\n",
       "    </tr>\n",
       "    <tr>\n",
       "        <td>Thor: Love and Thunder</td>\n",
       "        <td>510200000</td>\n",
       "    </tr>\n",
       "    <tr>\n",
       "        <td>Thor: The Dark World</td>\n",
       "        <td>494800000</td>\n",
       "    </tr>\n",
       "    <tr>\n",
       "        <td>Ant-Man and the Wasp</td>\n",
       "        <td>492700000</td>\n",
       "    </tr>\n",
       "    <tr>\n",
       "        <td>Iron Man 2</td>\n",
       "        <td>453900000</td>\n",
       "    </tr>\n",
       "    <tr>\n",
       "        <td>Iron Man</td>\n",
       "        <td>445800000</td>\n",
       "    </tr>\n",
       "    <tr>\n",
       "        <td>Ant-Man</td>\n",
       "        <td>389299999</td>\n",
       "    </tr>\n",
       "    <tr>\n",
       "        <td>Thor</td>\n",
       "        <td>299300000</td>\n",
       "    </tr>\n",
       "    <tr>\n",
       "        <td>Shang-Chi and the Legend of the Ten Rings</td>\n",
       "        <td>282200000</td>\n",
       "    </tr>\n",
       "    <tr>\n",
       "        <td>Captain America: The First Avenger</td>\n",
       "        <td>230600000</td>\n",
       "    </tr>\n",
       "    <tr>\n",
       "        <td>Eternals</td>\n",
       "        <td>202100000</td>\n",
       "    </tr>\n",
       "    <tr>\n",
       "        <td>Black Widow</td>\n",
       "        <td>179800000</td>\n",
       "    </tr>\n",
       "    <tr>\n",
       "        <td>The Incredible Hulk</td>\n",
       "        <td>127300000</td>\n",
       "    </tr>\n",
       "</table>"
      ],
      "text/plain": [
       "[('Avengers: Endgame', 2442000000),\n",
       " ('Avengers: Infinity War', 1723000000),\n",
       " ('Spider-Man: No Way Home', 1716000000),\n",
       " ('The Avengers', 1299000000),\n",
       " ('Black Panther', 1148000000),\n",
       " ('Iron Man 3', 1015000000),\n",
       " ('Captain Marvel', 976000000),\n",
       " ('Spider-Man: Far From Home', 972000000),\n",
       " ('Avengers: Age of Ultron', 959000000),\n",
       " ('Captain America: Civil War', 903000000),\n",
       " ('Doctor Strange in the', 755800000),\n",
       " ('Spider-Man: Homecoming', 705200000),\n",
       " ('Thor: Ragnarok', 674000000),\n",
       " ('Guardians of the Galaxy Vol. 2', 663800000),\n",
       " ('Captain America: The Winter Soldier', 544400000),\n",
       " ('Guardians of the Galaxy', 540500000),\n",
       " ('Doctor Strange', 512800000),\n",
       " ('Thor: Love and Thunder', 510200000),\n",
       " ('Thor: The Dark World', 494800000),\n",
       " ('Ant-Man and the Wasp', 492700000),\n",
       " ('Iron Man 2', 453900000),\n",
       " ('Iron Man', 445800000),\n",
       " ('Ant-Man', 389299999),\n",
       " ('Thor', 299300000),\n",
       " ('Shang-Chi and the Legend of the Ten Rings', 282200000),\n",
       " ('Captain America: The First Avenger', 230600000),\n",
       " ('Eternals', 202100000),\n",
       " ('Black Widow', 179800000),\n",
       " ('The Incredible Hulk', 127300000)]"
      ]
     },
     "execution_count": 109,
     "metadata": {},
     "output_type": "execute_result"
    }
   ],
   "source": [
    "%%sql\n",
    "SELECT title, (\"Box office\" - Budget) AS Profit\n",
    "FROM movie\n",
    "ORDER BY (\"Box office\" - Budget) DESC"
   ]
  },
  {
   "cell_type": "markdown",
   "id": "e6775c1c-fed7-4bb2-8e40-3a59505e0e7e",
   "metadata": {},
   "source": [
    "#### What's the total box office sales for Iron Man series? 2424700000, which is 2.4 billions."
   ]
  },
  {
   "cell_type": "code",
   "execution_count": 112,
   "id": "060f7cfc-8f5f-41dd-9deb-5b826538ba7e",
   "metadata": {},
   "outputs": [
    {
     "name": "stdout",
     "output_type": "stream",
     "text": [
      " * sqlite:///movie.db\n",
      "Done.\n"
     ]
    },
    {
     "data": {
      "text/html": [
       "<table>\n",
       "    <tr>\n",
       "        <th>SUM(&quot;Box office&quot;)</th>\n",
       "    </tr>\n",
       "    <tr>\n",
       "        <td>2424700000</td>\n",
       "    </tr>\n",
       "</table>"
      ],
      "text/plain": [
       "[(2424700000,)]"
      ]
     },
     "execution_count": 112,
     "metadata": {},
     "output_type": "execute_result"
    }
   ],
   "source": [
    "%%sql\n",
    "SELECT SUM(\"Box office\")\n",
    "FROM movie\n",
    "WHERE title LIKE 'Iron Man%'"
   ]
  },
  {
   "cell_type": "code",
   "execution_count": null,
   "id": "b073821b-b39e-4acc-8ea9-65c3f1c03e2c",
   "metadata": {},
   "outputs": [],
   "source": []
  }
 ],
 "metadata": {
  "kernelspec": {
   "display_name": "Python 3 (ipykernel)",
   "language": "python",
   "name": "python3"
  },
  "language_info": {
   "codemirror_mode": {
    "name": "ipython",
    "version": 3
   },
   "file_extension": ".py",
   "mimetype": "text/x-python",
   "name": "python",
   "nbconvert_exporter": "python",
   "pygments_lexer": "ipython3",
   "version": "3.7.4"
  }
 },
 "nbformat": 4,
 "nbformat_minor": 5
}
